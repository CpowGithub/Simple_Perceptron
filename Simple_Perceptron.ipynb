{
 "cells": [
  {
   "cell_type": "markdown",
   "metadata": {},
   "source": [
    "*Please note: This is a coding challenge I set for myself.*\n",
    "\n",
    "## Coding Challenge:\n",
    "1. Get more practice with jupyter notebook\n",
    "2. Get more practice with git\n",
    "3. Write a simple one layer perceptron and show that it is able to learn how to solve AND, OR, NOT Problems\n",
    "\n"
   ]
  },
  {
   "cell_type": "markdown",
   "metadata": {},
   "source": [
    "## What is a perceptron? \n",
    "\n",
    "The perceptron is a simplified artificial neural network first introduced by Frank Rosenblatt in 1958. In it´s simplest form it consists of a single artificial neuron with adjustable weights and a threshold. \n",
    "\n",
    "![title](Images/Simple_Perceptron.png)\n",
    "\n",
    "*Source: https://i.stack.imgur.com/2MVdW.png*\n",
    "\n",
    "The perceptron is basically nothing more than a linear classifier of the form $x = a_1y_1+a_2y_2+...+a_ny_n$"
   ]
  },
  {
   "cell_type": "code",
   "execution_count": 10,
   "metadata": {
    "collapsed": true
   },
   "outputs": [],
   "source": [
    "# imports\n",
    "import numpy as np"
   ]
  },
  {
   "cell_type": "code",
   "execution_count": 53,
   "metadata": {
    "collapsed": true
   },
   "outputs": [],
   "source": [
    "class Simple_Perceptron(object):\n",
    "    \"\"\"A simple one layer perceptron\n",
    "\n",
    "    :param input_nodes: An int, the number of input nodes\n",
    "    :param output_nodes: An int, the number of output nodes\n",
    "    :param weights: A numpy array of the shape(3,1), the weight matrix\n",
    "    :param activation_function: activation function at the output node -> in this case a step function\n",
    "    \"\"\"\n",
    "    def __init__(self, learning_rate = 0.1):\n",
    "        self.input_nodes = 3 # 2 input nodes and 1 bias\n",
    "        self.output_nodes = 1\n",
    "        self.weights = np.random.normal(0, scale=0.1, size=(self.input_nodes, self.output_nodes))\n",
    "        self.activation_function = lambda x : np.heaviside(x, 0)\n",
    "        self.learning_rate = learning_rate\n",
    "        self.error = np.array([[1]])\n",
    "    def update_weights(self, features, labels, predictions):\n",
    "        self.error = labels - predictions\n",
    "        delta_weights = self.learning_rate * np.dot(features.T, self.error)\n",
    "        self.weights += delta_weights\n",
    "        \n",
    "    def predict(self, features):\n",
    "        output_layer_input = np.dot(features, self.weights)\n",
    "        output_layer_output = self.activation_function(output_layer_input)\n",
    "        return output_layer_output\n",
    "           \n",
    "    def train(self, features, labels):\n",
    "        predictions = self.predict(features)\n",
    "        self.update_weights(features, labels, predictions)"
   ]
  },
  {
   "cell_type": "code",
   "execution_count": null,
   "metadata": {
    "collapsed": true
   },
   "outputs": [],
   "source": []
  }
 ],
 "metadata": {
  "kernelspec": {
   "display_name": "Python 3",
   "language": "python",
   "name": "python3"
  },
  "language_info": {
   "codemirror_mode": {
    "name": "ipython",
    "version": 3
   },
   "file_extension": ".py",
   "mimetype": "text/x-python",
   "name": "python",
   "nbconvert_exporter": "python",
   "pygments_lexer": "ipython3",
   "version": "3.6.4"
  }
 },
 "nbformat": 4,
 "nbformat_minor": 2
}
