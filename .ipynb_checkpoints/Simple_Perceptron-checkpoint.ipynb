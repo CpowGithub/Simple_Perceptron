{
 "cells": [
  {
   "cell_type": "markdown",
   "metadata": {},
   "source": [
    "*Please note: This is a coding challenge I set for myself.*\n",
    "\n",
    "## Coding Challenge:\n",
    "1. Get more practice with jupyter notebook\n",
    "2. Get more practice with git\n",
    "3. Write a simple one layer perceptron and show that it is able to learn how to solve AND, OR, NOT Problems\n",
    "\n"
   ]
  },
  {
   "cell_type": "markdown",
   "metadata": {},
   "source": [
    "## What is a perceptron? \n",
    "\n",
    "The perceptron is a simplified artificial neural network first introduced by Frank Rosenblatt in 1958. In it´s simplest form it consists of a single artificial neuron with adjustable weights and a threshold. \n",
    "\n",
    "![title](Images/Simple_Perceptron.png)\n",
    "\n",
    "*Source: https://i.stack.imgur.com/2MVdW.png*\n",
    "\n",
    "The perceptron is basically nothing more than a linear classifier of the form $x = a_1y_1+a_2y_2+...+a_ny_n$"
   ]
  }
 ],
 "metadata": {
  "kernelspec": {
   "display_name": "Python 3",
   "language": "python",
   "name": "python3"
  },
  "language_info": {
   "codemirror_mode": {
    "name": "ipython",
    "version": 3
   },
   "file_extension": ".py",
   "mimetype": "text/x-python",
   "name": "python",
   "nbconvert_exporter": "python",
   "pygments_lexer": "ipython3",
   "version": "3.6.4"
  }
 },
 "nbformat": 4,
 "nbformat_minor": 2
}
